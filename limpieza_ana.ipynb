{
 "cells": [
  {
   "cell_type": "code",
   "execution_count": 102,
   "metadata": {},
   "outputs": [],
   "source": [
    "# Importamos las librerías que necesitamos\n",
    "# \n",
    "# Tratamiento de datos\n",
    "# -----------------------------------------------------------------------\n",
    "import pandas as pd\n",
    "import numpy as np\n",
    "\n",
    "# Visualización\n",
    "# ------------------------------------------------------------------------------\n",
    "import matplotlib.pyplot as plt\n",
    "import seaborn as sns\n",
    "\n",
    "# Configuraciones\n",
    "# -----------------------------------------------------------------------\n",
    "pd.set_option('display.max_columns', None)\n",
    "pd.set_option('display.max_colwidth', None)"
   ]
  },
  {
   "cell_type": "code",
   "execution_count": 103,
   "metadata": {},
   "outputs": [
    {
     "data": {
      "text/html": [
       "<div>\n",
       "<style scoped>\n",
       "    .dataframe tbody tr th:only-of-type {\n",
       "        vertical-align: middle;\n",
       "    }\n",
       "\n",
       "    .dataframe tbody tr th {\n",
       "        vertical-align: top;\n",
       "    }\n",
       "\n",
       "    .dataframe thead th {\n",
       "        text-align: right;\n",
       "    }\n",
       "</style>\n",
       "<table border=\"1\" class=\"dataframe\">\n",
       "  <thead>\n",
       "    <tr style=\"text-align: right;\">\n",
       "      <th></th>\n",
       "      <th>Unnamed: 0</th>\n",
       "      <th>Age</th>\n",
       "      <th>Attrition</th>\n",
       "      <th>BusinessTravel</th>\n",
       "      <th>DailyRate</th>\n",
       "      <th>Department</th>\n",
       "      <th>DistanceFromHome</th>\n",
       "      <th>Education</th>\n",
       "      <th>EducationField</th>\n",
       "      <th>employeecount</th>\n",
       "      <th>employeenumber</th>\n",
       "      <th>EnvironmentSatisfaction</th>\n",
       "      <th>Gender</th>\n",
       "      <th>HourlyRate</th>\n",
       "      <th>JobInvolvement</th>\n",
       "      <th>JobLevel</th>\n",
       "      <th>JobRole</th>\n",
       "      <th>JobSatisfaction</th>\n",
       "      <th>MaritalStatus</th>\n",
       "      <th>MonthlyIncome</th>\n",
       "      <th>MonthlyRate</th>\n",
       "      <th>NUMCOMPANIESWORKED</th>\n",
       "      <th>Over18</th>\n",
       "      <th>OverTime</th>\n",
       "      <th>PercentSalaryHike</th>\n",
       "      <th>PerformanceRating</th>\n",
       "      <th>RelationshipSatisfaction</th>\n",
       "      <th>StandardHours</th>\n",
       "      <th>StockOptionLevel</th>\n",
       "      <th>TOTALWORKINGYEARS</th>\n",
       "      <th>TrainingTimesLastYear</th>\n",
       "      <th>WORKLIFEBALANCE</th>\n",
       "      <th>YearsAtCompany</th>\n",
       "      <th>YearsInCurrentRole</th>\n",
       "      <th>YearsSinceLastPromotion</th>\n",
       "      <th>YEARSWITHCURRMANAGER</th>\n",
       "      <th>SameAsMonthlyIncome</th>\n",
       "      <th>DateBirth</th>\n",
       "      <th>Salary</th>\n",
       "      <th>RoleDepartament</th>\n",
       "      <th>NUMBERCHILDREN</th>\n",
       "      <th>RemoteWork</th>\n",
       "    </tr>\n",
       "  </thead>\n",
       "  <tbody>\n",
       "    <tr>\n",
       "      <th>1474</th>\n",
       "      <td>1474</td>\n",
       "      <td>38</td>\n",
       "      <td>No</td>\n",
       "      <td>NaN</td>\n",
       "      <td>119,0$</td>\n",
       "      <td>NaN</td>\n",
       "      <td>3</td>\n",
       "      <td>3</td>\n",
       "      <td>Life Sciences</td>\n",
       "      <td>1</td>\n",
       "      <td>307,0</td>\n",
       "      <td>1</td>\n",
       "      <td>0</td>\n",
       "      <td>76</td>\n",
       "      <td>3</td>\n",
       "      <td>3</td>\n",
       "      <td>SAleS EXeCuTive</td>\n",
       "      <td>3</td>\n",
       "      <td>Divorced</td>\n",
       "      <td>NaN</td>\n",
       "      <td>9647</td>\n",
       "      <td>0</td>\n",
       "      <td>Y</td>\n",
       "      <td>NaN</td>\n",
       "      <td>12</td>\n",
       "      <td>3,0</td>\n",
       "      <td>3</td>\n",
       "      <td>NaN</td>\n",
       "      <td>2</td>\n",
       "      <td>NaN</td>\n",
       "      <td>6</td>\n",
       "      <td>2,0</td>\n",
       "      <td>16</td>\n",
       "      <td>NaN</td>\n",
       "      <td>5</td>\n",
       "      <td>13</td>\n",
       "      <td>NaN</td>\n",
       "      <td>1985</td>\n",
       "      <td>1000000000$</td>\n",
       "      <td>NaN</td>\n",
       "      <td>NaN</td>\n",
       "      <td>Yes</td>\n",
       "    </tr>\n",
       "  </tbody>\n",
       "</table>\n",
       "</div>"
      ],
      "text/plain": [
       "      Unnamed: 0 Age Attrition BusinessTravel DailyRate Department  \\\n",
       "1474        1474  38        No            NaN    119,0$        NaN   \n",
       "\n",
       "      DistanceFromHome  Education EducationField  employeecount  \\\n",
       "1474                 3          3  Life Sciences              1   \n",
       "\n",
       "     employeenumber  EnvironmentSatisfaction  Gender HourlyRate  \\\n",
       "1474          307,0                        1       0         76   \n",
       "\n",
       "      JobInvolvement  JobLevel            JobRole  JobSatisfaction  \\\n",
       "1474               3         3   SAleS EXeCuTive                 3   \n",
       "\n",
       "     MaritalStatus MonthlyIncome  MonthlyRate  NUMCOMPANIESWORKED Over18  \\\n",
       "1474      Divorced           NaN         9647                   0      Y   \n",
       "\n",
       "     OverTime  PercentSalaryHike PerformanceRating  RelationshipSatisfaction  \\\n",
       "1474      NaN                 12               3,0                         3   \n",
       "\n",
       "     StandardHours  StockOptionLevel TOTALWORKINGYEARS  TrainingTimesLastYear  \\\n",
       "1474           NaN                 2               NaN                      6   \n",
       "\n",
       "     WORKLIFEBALANCE  YearsAtCompany YearsInCurrentRole  \\\n",
       "1474             2,0              16                NaN   \n",
       "\n",
       "      YearsSinceLastPromotion  YEARSWITHCURRMANAGER SameAsMonthlyIncome  \\\n",
       "1474                        5                    13                 NaN   \n",
       "\n",
       "      DateBirth       Salary RoleDepartament  NUMBERCHILDREN RemoteWork  \n",
       "1474       1985  1000000000$             NaN             NaN        Yes  "
      ]
     },
     "execution_count": 103,
     "metadata": {},
     "output_type": "execute_result"
    }
   ],
   "source": [
    "# Leer el archivo CSV\n",
    "df = pd.read_csv('HR RAW DATA.csv')\n",
    "df.sample()"
   ]
  },
  {
   "cell_type": "markdown",
   "metadata": {},
   "source": [
    "Limpieza de las 13 primeras columnas del dataframe."
   ]
  },
  {
   "cell_type": "code",
   "execution_count": 104,
   "metadata": {},
   "outputs": [
    {
     "data": {
      "text/plain": [
       "Index(['Unnamed: 0', 'Age', 'Attrition', 'BusinessTravel', 'DailyRate',\n",
       "       'Department', 'DistanceFromHome', 'Education', 'EducationField',\n",
       "       'employeecount', 'employeenumber', 'EnvironmentSatisfaction', 'Gender',\n",
       "       'HourlyRate'],\n",
       "      dtype='object')"
      ]
     },
     "execution_count": 104,
     "metadata": {},
     "output_type": "execute_result"
    }
   ],
   "source": [
    "# Hago dos copias de seguridad y trabajo sobre  df1.\n",
    "\n",
    "df1= df.copy()\n",
    "\n",
    "# Me quedo solo con las primeras 13 columnas del dataframe.\n",
    "\n",
    "df1.drop(columns=['JobInvolvement', 'JobLevel', 'JobRole',\n",
    "       'JobSatisfaction', 'MaritalStatus', 'MonthlyIncome', 'MonthlyRate',\n",
    "       'NUMCOMPANIESWORKED', 'Over18', 'OverTime', 'PercentSalaryHike',\n",
    "       'PerformanceRating', 'RelationshipSatisfaction', 'StandardHours',\n",
    "       'StockOptionLevel', 'TOTALWORKINGYEARS', 'TrainingTimesLastYear',\n",
    "       'WORKLIFEBALANCE', 'YearsAtCompany', 'YearsInCurrentRole',\n",
    "       'YearsSinceLastPromotion', 'YEARSWITHCURRMANAGER',\n",
    "       'SameAsMonthlyIncome', 'DateBirth', 'Salary', 'RoleDepartament',\n",
    "       'NUMBERCHILDREN', 'RemoteWork'], axis=1, inplace=True)\n",
    "\n",
    "df1.columns"
   ]
  },
  {
   "cell_type": "markdown",
   "metadata": {},
   "source": [
    "### Renombro todas las columnas a minusculas"
   ]
  },
  {
   "cell_type": "code",
   "execution_count": 105,
   "metadata": {},
   "outputs": [],
   "source": [
    "\n",
    "df1.columns = df1.columns.str.lower()\n",
    "df1_copy = df1.copy() # Copia de seguridad antes de empezar a limpiar."
   ]
  },
  {
   "cell_type": "code",
   "execution_count": 106,
   "metadata": {},
   "outputs": [
    {
     "data": {
      "text/plain": [
       "array(['51', '52', '42', '47', '46', '48', '59', '41', '56', '38', '55',\n",
       "       '40', '58', '35', '45', '33', '36', '34', 'forty-seven', '53',\n",
       "       '43', '60', '32', '37', '49', '39', '50', '44', '30',\n",
       "       'fifty-eight', '29', '31', '54', '57', '27', 'thirty-six', '28',\n",
       "       '26', 'fifty-five', '25', 'fifty-two', 'thirty-one', '24',\n",
       "       'thirty', '23', '22', '21', '20', 'twenty-six', '19',\n",
       "       'thirty-seven', '18', 'thirty-two', 'twenty-four'], dtype=object)"
      ]
     },
     "execution_count": 106,
     "metadata": {},
     "output_type": "execute_result"
    }
   ],
   "source": [
    "# COLUMNA AGE \n",
    "\n",
    "df1['age'].unique()"
   ]
  },
  {
   "cell_type": "code",
   "execution_count": 107,
   "metadata": {},
   "outputs": [
    {
     "data": {
      "text/plain": [
       "array(['51', '52', '42', '47', '46', '48', '59', '41', '56', '38', '55',\n",
       "       '40', '58', '35', '45', '33', '36', '34', '53', '43', '60', '32',\n",
       "       '37', '49', '39', '50', '44', '30', '29', '31', '54', '57', '27',\n",
       "       '28', '26', '25', '24', '23', '22', '21', '20', '19', '18'],\n",
       "      dtype=object)"
      ]
     },
     "execution_count": 107,
     "metadata": {},
     "output_type": "execute_result"
    }
   ],
   "source": [
    "mapeo_edades = {\n",
    "'thirty-six': '36', \n",
    "'forty-seven': '47', \n",
    "'fifty-eight': '58', \n",
    "'thirty-six': '36', \n",
    "'fifty-five': '55', \n",
    "'fifty-two': '52', \n",
    "'thirty-one': '31',\n",
    "'thirty': '30',\n",
    "'twenty-six': '26',\n",
    "'thirty-seven': '37', \n",
    "'thirty-two': '32', \n",
    "'twenty-four': '24'\n",
    "}\n",
    "\n",
    "# Cambio las edades escritas a mano \n",
    "\n",
    "df1['age'] = df1['age'].replace(mapeo_edades)\n",
    "df1['age'].unique()\n"
   ]
  },
  {
   "cell_type": "code",
   "execution_count": 108,
   "metadata": {},
   "outputs": [
    {
     "data": {
      "text/plain": [
       "dtype('float64')"
      ]
     },
     "execution_count": 108,
     "metadata": {},
     "output_type": "execute_result"
    }
   ],
   "source": [
    "def pasar_a_float (cadena):\n",
    "    try:\n",
    "        return float(cadena)\n",
    "    except: \n",
    "        return np.nar \n",
    "    \n",
    "df1['age'] = df1['age'].apply(pasar_a_float)\n",
    "df1['age'].dtype\n"
   ]
  },
  {
   "cell_type": "code",
   "execution_count": 109,
   "metadata": {},
   "outputs": [
    {
     "data": {
      "text/plain": [
       "0       51.0\n",
       "1       52.0\n",
       "2       42.0\n",
       "3       47.0\n",
       "4       46.0\n",
       "        ... \n",
       "1609    36.0\n",
       "1610    45.0\n",
       "1611    39.0\n",
       "1612    36.0\n",
       "1613    46.0\n",
       "Name: age, Length: 1614, dtype: float64"
      ]
     },
     "execution_count": 109,
     "metadata": {},
     "output_type": "execute_result"
    }
   ],
   "source": [
    "df1['age']"
   ]
  },
  {
   "cell_type": "code",
   "execution_count": 110,
   "metadata": {},
   "outputs": [
    {
     "data": {
      "text/plain": [
       "array([nan, 'rarely', 'frequently', 'non-travel'], dtype=object)"
      ]
     },
     "execution_count": 110,
     "metadata": {},
     "output_type": "execute_result"
    }
   ],
   "source": [
    "# COLUMNA BUSINESS TRAVEL. \n",
    "\n",
    "# Quitamos el travel de los nombres de los datos.\n",
    "\n",
    "def quitar_travel (cadena):\n",
    "    \n",
    "    try:\n",
    "        nueva_cadena = cadena.replace(\"travel_\", \"\")\n",
    "        return nueva_cadena\n",
    "    except:\n",
    "        return np.nan \n",
    "\n",
    "df1['businesstravel'] = df1['businesstravel'].apply(quitar_travel)\n",
    "\n",
    "df1['businesstravel'].unique()"
   ]
  },
  {
   "cell_type": "code",
   "execution_count": 111,
   "metadata": {},
   "outputs": [
    {
     "data": {
      "text/plain": [
       "0        684.0\n",
       "1        699.0\n",
       "2        532.0\n",
       "3        359.0\n",
       "4       1319.0\n",
       "         ...  \n",
       "1609     530.0\n",
       "1610     805.0\n",
       "1611     903.0\n",
       "1612    1229.0\n",
       "1613     566.0\n",
       "Name: dailyrate, Length: 1614, dtype: object"
      ]
     },
     "execution_count": 111,
     "metadata": {},
     "output_type": "execute_result"
    }
   ],
   "source": [
    "# COLUMNA DAILYRATE\n",
    "\n",
    "# Eliminar $. Cambiar la (,) por (.). \n",
    "\n",
    "df1['dailyrate'] = df1['dailyrate'].apply(lambda x : x.replace(\",\", \".\" ).replace(\"$\", \"\"))\n",
    "\n",
    "df1['dailyrate']"
   ]
  },
  {
   "cell_type": "code",
   "execution_count": 112,
   "metadata": {},
   "outputs": [
    {
     "data": {
      "text/plain": [
       "dtype('float64')"
      ]
     },
     "execution_count": 112,
     "metadata": {},
     "output_type": "execute_result"
    }
   ],
   "source": [
    "\n",
    "df1['dailyrate'] = df1['dailyrate'].apply(pasar_a_float)\n",
    "df1['dailyrate'].dtype"
   ]
  },
  {
   "cell_type": "code",
   "execution_count": 113,
   "metadata": {},
   "outputs": [
    {
     "data": {
      "text/plain": [
       "array([ 6,  1,  4,  2,  3, 22, 25,  9,  7, 23, 10, 12, 14, 13, 15,  8, 42,\n",
       "       28, 37,  5, 16, 35, 26, 24, 29, 17, 21, 18, 30, 27, 20, 31, 39, 11,\n",
       "       19, 33, 34, 46, 36, 45, 47, 32, 41, 49, 48, 38, 43, 40, 44])"
      ]
     },
     "execution_count": 113,
     "metadata": {},
     "output_type": "execute_result"
    }
   ],
   "source": [
    "# COLUMNA DISTANCEFROMHOME\n",
    "\n",
    "# Pasar a positivos los negativos\n",
    "\n",
    "df1['distancefromhome'] = df1['distancefromhome'].apply(lambda x : abs(x))\n",
    "df1['distancefromhome'].unique()"
   ]
  },
  {
   "cell_type": "code",
   "execution_count": 114,
   "metadata": {},
   "outputs": [],
   "source": [
    "# COLUMNA EMPLOYEECOUNT\n",
    "\n",
    "# Eliminar \n",
    "\n",
    "df1.drop('employeecount', axis=1, inplace=True)"
   ]
  },
  {
   "cell_type": "code",
   "execution_count": 115,
   "metadata": {},
   "outputs": [
    {
     "data": {
      "text/plain": [
       "Index(['unnamed: 0', 'age', 'attrition', 'businesstravel', 'dailyrate',\n",
       "       'department', 'distancefromhome', 'education', 'educationfield',\n",
       "       'employeenumber', 'environmentsatisfaction', 'gender', 'hourlyrate'],\n",
       "      dtype='object')"
      ]
     },
     "execution_count": 115,
     "metadata": {},
     "output_type": "execute_result"
    }
   ],
   "source": [
    "# Comprobamos que ha desaparecido\n",
    "# \n",
    "df1.columns"
   ]
  },
  {
   "cell_type": "code",
   "execution_count": 116,
   "metadata": {},
   "outputs": [
    {
     "data": {
      "text/plain": [
       "array(['162,0', '259,0', '319,0', ..., '2012,0', '2023,0', '2040,0'],\n",
       "      dtype=object)"
      ]
     },
     "execution_count": 116,
     "metadata": {},
     "output_type": "execute_result"
    }
   ],
   "source": [
    "df1['employeenumber'].unique()"
   ]
  },
  {
   "cell_type": "code",
   "execution_count": 117,
   "metadata": {},
   "outputs": [],
   "source": [
    "# COLUMNA EMPLOYEENUMBER\n",
    "# Reemplazar los valores faltantes por 'unknown'\n",
    "# Quitar las comas y el decimal, pero dejarlo como string.\n",
    "\n",
    "df1['employeenumber'] = df1['employeenumber'].fillna('unknown')\n",
    "df1['employeenumber'] = df1['employeenumber'].apply(lambda x: (x.replace(\",\", \".\")))"
   ]
  },
  {
   "cell_type": "code",
   "execution_count": 118,
   "metadata": {},
   "outputs": [
    {
     "data": {
      "text/plain": [
       "array(['162.0', '259.0', '319.0', ..., '2012.0', '2023.0', '2040.0'],\n",
       "      dtype=object)"
      ]
     },
     "execution_count": 118,
     "metadata": {},
     "output_type": "execute_result"
    }
   ],
   "source": [
    "df1['employeenumber'].unique()"
   ]
  },
  {
   "cell_type": "code",
   "execution_count": 119,
   "metadata": {},
   "outputs": [
    {
     "data": {
      "text/plain": [
       "array([ 1,  3,  4,  2, 42, 37, 35, 25, 27, 31, 39, 21, 15, 14, 33, 19, 12,\n",
       "       13, 28, 47, 36, 29, 24, 46, 16, 22, 41, 49, 11, 48, 18, 10, 45, 38,\n",
       "       17, 20, 26, 43])"
      ]
     },
     "execution_count": 119,
     "metadata": {},
     "output_type": "execute_result"
    }
   ],
   "source": [
    "df1['environmentsatisfaction'].unique()"
   ]
  },
  {
   "cell_type": "code",
   "execution_count": 120,
   "metadata": {},
   "outputs": [],
   "source": [
    "\n",
    "# COLUMNA ENVIROMENTSATISFACTION\n",
    "\n",
    "# Limpiar valores que no estén en escala 1 al 4 (Eliminar segunda cifra del número). Pasarlo a entero.\n",
    "\n",
    "# df1['environmentsatisfaction'] = df1['environmentsatisfaction'].apply(lambda x: int(x))\n",
    "\n",
    "def primera_cifra_int (numero):\n",
    "    # Devuelve un entero que coincide con la primera cifra si la columna tiene más de un caracter\n",
    "    cadena = str(numero)\n",
    "    if len(cadena)>1: \n",
    "        return int(cadena[0])\n",
    "    else: \n",
    "        return int(cadena)\n"
   ]
  },
  {
   "cell_type": "code",
   "execution_count": 121,
   "metadata": {},
   "outputs": [],
   "source": [
    "df1['environmentsatisfaction'] = df1['environmentsatisfaction'].apply(primera_cifra_int)"
   ]
  },
  {
   "cell_type": "code",
   "execution_count": 122,
   "metadata": {},
   "outputs": [
    {
     "data": {
      "text/plain": [
       "array([1, 3, 4, 2])"
      ]
     },
     "execution_count": 122,
     "metadata": {},
     "output_type": "execute_result"
    }
   ],
   "source": [
    "df1['environmentsatisfaction'].unique()"
   ]
  },
  {
   "cell_type": "code",
   "execution_count": 123,
   "metadata": {},
   "outputs": [
    {
     "data": {
      "text/plain": [
       "dtype('int64')"
      ]
     },
     "execution_count": 123,
     "metadata": {},
     "output_type": "execute_result"
    }
   ],
   "source": [
    "df1['environmentsatisfaction'].dtype"
   ]
  },
  {
   "cell_type": "code",
   "execution_count": 124,
   "metadata": {},
   "outputs": [
    {
     "data": {
      "text/plain": [
       "array([0, 1])"
      ]
     },
     "execution_count": 124,
     "metadata": {},
     "output_type": "execute_result"
    }
   ],
   "source": [
    "df1['gender'].unique()"
   ]
  },
  {
   "cell_type": "code",
   "execution_count": 125,
   "metadata": {},
   "outputs": [
    {
     "data": {
      "text/plain": [
       "0       M\n",
       "1       M\n",
       "2       M\n",
       "3       F\n",
       "4       F\n",
       "       ..\n",
       "1609    M\n",
       "1610    M\n",
       "1611    M\n",
       "1612    M\n",
       "1613    M\n",
       "Name: gender, Length: 1614, dtype: object"
      ]
     },
     "execution_count": 125,
     "metadata": {},
     "output_type": "execute_result"
    }
   ],
   "source": [
    "# COLUMNA GENDER\n",
    "\n",
    "# Cambiar 0 a M. 1 a F. Cambiarlo a object\n",
    "\n",
    "df1['gender'] = df1['gender'].map({0: 'M', 1: 'F'})\n",
    "df1['gender']\n",
    "\n",
    "\n"
   ]
  },
  {
   "cell_type": "code",
   "execution_count": 126,
   "metadata": {},
   "outputs": [
    {
     "data": {
      "text/plain": [
       "array(['M', 'F'], dtype=object)"
      ]
     },
     "execution_count": 126,
     "metadata": {},
     "output_type": "execute_result"
    }
   ],
   "source": [
    "df1['gender'].unique()"
   ]
  },
  {
   "cell_type": "code",
   "execution_count": 127,
   "metadata": {},
   "outputs": [],
   "source": [
    "# COLUMNA HOURLYRATE\n",
    "\n",
    "# Limpiar registros que no tenga valor numerico a NaN( Ej: ‘not available’)Cambiarlo a tipo float.\n",
    "\n",
    "df1['hourlyrate'] = df1['hourlyrate'].replace({'Not Available': '-1'})\n",
    "\n",
    "def pasar_a_float (cadena):\n",
    "    if cadena == '-1':\n",
    "        return np.nan \n",
    "    else:\n",
    "        return float(cadena)\n",
    "\n",
    "df1['hourlyrate'] = df1['hourlyrate'].apply(pasar_a_float)\n"
   ]
  },
  {
   "cell_type": "code",
   "execution_count": 128,
   "metadata": {},
   "outputs": [
    {
     "data": {
      "text/plain": [
       "array([ 51.,  65.,  58.,  82.,  45.,  99.,  91.,  64.,  55.,  68.,  49.,\n",
       "        61.,  79.,  31.,  69.,  48.,  80.,  74.,  98.,  59.,  33.,  56.,\n",
       "        66.,  57.,  53.,  87.,  81.,  84.,  32.,  41.,  92.,  47.,  nan,\n",
       "        43.,  86.,  30.,  42.,  88.,  96.,  67.,  62.,  72.,  78.,  89.,\n",
       "        52.,  50.,  90.,  37.,  94.,  76.,  60.,  46.,  83., 100.,  40.,\n",
       "        97.,  54.,  75.,  39.,  85.,  63.,  44.,  93.,  36.,  35.,  73.,\n",
       "        71.,  70.,  38.,  77.,  95.,  34.])"
      ]
     },
     "execution_count": 128,
     "metadata": {},
     "output_type": "execute_result"
    }
   ],
   "source": [
    "df1['hourlyrate'].unique()"
   ]
  },
  {
   "cell_type": "code",
   "execution_count": 129,
   "metadata": {},
   "outputs": [
    {
     "data": {
      "text/html": [
       "<div>\n",
       "<style scoped>\n",
       "    .dataframe tbody tr th:only-of-type {\n",
       "        vertical-align: middle;\n",
       "    }\n",
       "\n",
       "    .dataframe tbody tr th {\n",
       "        vertical-align: top;\n",
       "    }\n",
       "\n",
       "    .dataframe thead th {\n",
       "        text-align: right;\n",
       "    }\n",
       "</style>\n",
       "<table border=\"1\" class=\"dataframe\">\n",
       "  <thead>\n",
       "    <tr style=\"text-align: right;\">\n",
       "      <th></th>\n",
       "      <th>unnamed: 0</th>\n",
       "      <th>age</th>\n",
       "      <th>attrition</th>\n",
       "      <th>businesstravel</th>\n",
       "      <th>dailyrate</th>\n",
       "      <th>department</th>\n",
       "      <th>distancefromhome</th>\n",
       "      <th>education</th>\n",
       "      <th>educationfield</th>\n",
       "      <th>employeenumber</th>\n",
       "      <th>environmentsatisfaction</th>\n",
       "      <th>gender</th>\n",
       "      <th>hourlyrate</th>\n",
       "    </tr>\n",
       "  </thead>\n",
       "  <tbody>\n",
       "    <tr>\n",
       "      <th>0</th>\n",
       "      <td>0</td>\n",
       "      <td>51.0</td>\n",
       "      <td>No</td>\n",
       "      <td>NaN</td>\n",
       "      <td>684.0</td>\n",
       "      <td>NaN</td>\n",
       "      <td>6</td>\n",
       "      <td>3</td>\n",
       "      <td>NaN</td>\n",
       "      <td>162.0</td>\n",
       "      <td>1</td>\n",
       "      <td>M</td>\n",
       "      <td>51.0</td>\n",
       "    </tr>\n",
       "    <tr>\n",
       "      <th>1</th>\n",
       "      <td>1</td>\n",
       "      <td>52.0</td>\n",
       "      <td>No</td>\n",
       "      <td>NaN</td>\n",
       "      <td>699.0</td>\n",
       "      <td>NaN</td>\n",
       "      <td>1</td>\n",
       "      <td>4</td>\n",
       "      <td>Life Sciences</td>\n",
       "      <td>259.0</td>\n",
       "      <td>3</td>\n",
       "      <td>M</td>\n",
       "      <td>65.0</td>\n",
       "    </tr>\n",
       "    <tr>\n",
       "      <th>2</th>\n",
       "      <td>2</td>\n",
       "      <td>42.0</td>\n",
       "      <td>No</td>\n",
       "      <td>rarely</td>\n",
       "      <td>532.0</td>\n",
       "      <td>Research &amp; Development</td>\n",
       "      <td>4</td>\n",
       "      <td>2</td>\n",
       "      <td>Technical Degree</td>\n",
       "      <td>319.0</td>\n",
       "      <td>3</td>\n",
       "      <td>M</td>\n",
       "      <td>58.0</td>\n",
       "    </tr>\n",
       "    <tr>\n",
       "      <th>3</th>\n",
       "      <td>3</td>\n",
       "      <td>47.0</td>\n",
       "      <td>No</td>\n",
       "      <td>rarely</td>\n",
       "      <td>359.0</td>\n",
       "      <td>NaN</td>\n",
       "      <td>2</td>\n",
       "      <td>4</td>\n",
       "      <td>Medical</td>\n",
       "      <td>unknown</td>\n",
       "      <td>1</td>\n",
       "      <td>F</td>\n",
       "      <td>82.0</td>\n",
       "    </tr>\n",
       "    <tr>\n",
       "      <th>4</th>\n",
       "      <td>4</td>\n",
       "      <td>46.0</td>\n",
       "      <td>No</td>\n",
       "      <td>NaN</td>\n",
       "      <td>1319.0</td>\n",
       "      <td>NaN</td>\n",
       "      <td>3</td>\n",
       "      <td>3</td>\n",
       "      <td>Technical Degree</td>\n",
       "      <td>unknown</td>\n",
       "      <td>1</td>\n",
       "      <td>F</td>\n",
       "      <td>45.0</td>\n",
       "    </tr>\n",
       "  </tbody>\n",
       "</table>\n",
       "</div>"
      ],
      "text/plain": [
       "   unnamed: 0   age attrition businesstravel  dailyrate  \\\n",
       "0           0  51.0        No            NaN      684.0   \n",
       "1           1  52.0        No            NaN      699.0   \n",
       "2           2  42.0        No         rarely      532.0   \n",
       "3           3  47.0        No         rarely      359.0   \n",
       "4           4  46.0        No            NaN     1319.0   \n",
       "\n",
       "                 department  distancefromhome  education    educationfield  \\\n",
       "0                       NaN                 6          3               NaN   \n",
       "1                       NaN                 1          4     Life Sciences   \n",
       "2   Research & Development                  4          2  Technical Degree   \n",
       "3                       NaN                 2          4           Medical   \n",
       "4                       NaN                 3          3  Technical Degree   \n",
       "\n",
       "  employeenumber  environmentsatisfaction gender  hourlyrate  \n",
       "0          162.0                        1      M        51.0  \n",
       "1          259.0                        3      M        65.0  \n",
       "2          319.0                        3      M        58.0  \n",
       "3        unknown                        1      F        82.0  \n",
       "4        unknown                        1      F        45.0  "
      ]
     },
     "execution_count": 129,
     "metadata": {},
     "output_type": "execute_result"
    }
   ],
   "source": [
    "df1.head()"
   ]
  },
  {
   "cell_type": "code",
   "execution_count": 130,
   "metadata": {},
   "outputs": [],
   "source": [
    "df1.to_csv('columnas_ana_primera.csv')"
   ]
  }
 ],
 "metadata": {
  "kernelspec": {
   "display_name": "Python 3",
   "language": "python",
   "name": "python3"
  },
  "language_info": {
   "codemirror_mode": {
    "name": "ipython",
    "version": 3
   },
   "file_extension": ".py",
   "mimetype": "text/x-python",
   "name": "python",
   "nbconvert_exporter": "python",
   "pygments_lexer": "ipython3",
   "version": "3.12.4"
  }
 },
 "nbformat": 4,
 "nbformat_minor": 2
}
